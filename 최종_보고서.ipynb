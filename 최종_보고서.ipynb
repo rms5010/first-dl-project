{
  "nbformat": 4,
  "nbformat_minor": 0,
  "metadata": {
    "colab": {
      "provenance": [],
      "authorship_tag": "ABX9TyPmekUASuYNYOpZ0um2p5bR",
      "include_colab_link": true
    },
    "kernelspec": {
      "name": "python3",
      "display_name": "Python 3"
    },
    "language_info": {
      "name": "python"
    }
  },
  "cells": [
    {
      "cell_type": "markdown",
      "metadata": {
        "id": "view-in-github",
        "colab_type": "text"
      },
      "source": [
        "<a href=\"https://colab.research.google.com/github/rms5010/first-dl-project/blob/main/%EC%B5%9C%EC%A2%85_%EB%B3%B4%EA%B3%A0%EC%84%9C.ipynb\" target=\"_parent\"><img src=\"https://colab.research.google.com/assets/colab-badge.svg\" alt=\"Open In Colab\"/></a>"
      ]
    },
    {
      "cell_type": "markdown",
      "source": [
        "# 유튜브 트렌드 영상 분석 - 최종 보고서\n",
        "\n",
        "## 이름: 유명석\n",
        "\n",
        "## 발표: O\n",
        "\n",
        "## 프로젝트 제목: YouTube 트렌드 영상 EDA 및 LSTM 기반 조회수 예측\n",
        "\n",
        "### 1. 프로젝트 소개\n",
        "YouTube에서 인기 있는 영상의 트렌드를 분석하고,\n",
        "향후 유행할 가능성이 높은 영상을 데이터 기반으로 조망할 수 있는 방법을 검토했습니다.\n",
        "이를 위해 EDA(탐색적 데이터 분석)와 LSTM(시계열 예측 모델)을 활용한 분석을 진행했습니다.\n",
        "\n",
        "### 2. 주제 관련 배경\n",
        "사람마다 취향은 다르지만,\n",
        "국내외 유튜브 영상 트렌드를 이해하고 예측하는 것은\n",
        "콘텐츠 소비 패턴의 흐름을 읽는 데 유용합니다.\n",
        "이를 통해 세대나 관심사에 구애받지 않고 모두가 트렌드를 쉽게 접할 수 있는 기반을 만들고자 했습니다.\n",
        "\n",
        "### 3. 데이터셋 소개\n",
        "사용 데이터: KR_youtube_trending_data.csv\n",
        "\n",
        "주요 컬럼:\n",
        "\n",
        "title: 영상 제목\n",
        "\n",
        "view_count: 조회수\n",
        "\n",
        "likes: 좋아요 수\n",
        "\n",
        "category: 카테고리\n",
        "\n",
        "channel: 채널명\n",
        "\n",
        "description: 영상 설명\n",
        "\n",
        "trending_date: 유행 시작 날짜\n",
        "\n",
        "tags: 해시태그\n",
        "\n",
        "### 4. 전처리 과정\n",
        "결측치(NaN) 제거 및 날짜 포맷 변환 (to_datetime)\n",
        "\n",
        "영상 제목에서 불용어(stopword)를 제거하고 워드클라우드 생성\n",
        "\n",
        "view_count, likes, like_ratio 등 주요 지표 중심으로 탐색적 분석 수행\n",
        "\n",
        "### 5. 모델 구조\n",
        "모델: LSTM (Long Short-Term Memory, 시계열 예측)\n",
        "\n",
        "입력 방식: Sliding Window 기법으로 7일치 조회수를 입력, 다음 날 예측\n",
        "\n",
        "정규화: MinMaxScaler 사용\n",
        "\n",
        "성능 평가: MSE (평균제곱오차), MAE (평균절대오차) 기반 측정\n",
        "\n",
        "### 6. 모델 적용 및 개선점\n",
        "영상별 특성에 따라 적절한 윈도우 크기 조정 필요\n",
        "\n",
        "예측 정확도에 따라 MAE 비교 및 분포 확인\n",
        "\n",
        "KMeans 클러스터링을 통해 영상 유형(폭발적 증가형/완만 성장형 등) 분류 가능\n",
        "\n",
        "### 7. 결과 요약\n",
        "일부 영상은 일정한 패턴을 보이며 예측이 잘 되었고,\n",
        "급격한 변화가 많은 영상은 상대적으로 예측 정확도가 낮음\n",
        "\n",
        "카테고리별로 트렌드 변화 폭이 다르며,\n",
        "EDA 결과와 LSTM 예측 모두가 이를 뒷받침함\n",
        "\n",
        "### 8. 정리 및 추후 발전 방향\n",
        "유저가 최근 조회수 5일치를 입력하면 다음날 예측값을 제공하는 인터페이스 확장 가능\n",
        "\n",
        "Shorts, 게임, 브이로그, 광고 등 유형별로 세분화된 분석 가능\n",
        "\n",
        "개인별 관심사 기반 예측 추천 시스템으로 응용 가능\n"
      ],
      "metadata": {
        "id": "RgWFlhFpKRTv"
      }
    }
  ]
}