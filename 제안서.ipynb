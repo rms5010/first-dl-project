{
  "nbformat": 4,
  "nbformat_minor": 0,
  "metadata": {
    "colab": {
      "provenance": [],
      "authorship_tag": "ABX9TyMhwbLvc8v4ecjkYlehoPej",
      "include_colab_link": true
    },
    "kernelspec": {
      "name": "python3",
      "display_name": "Python 3"
    },
    "language_info": {
      "name": "python"
    }
  },
  "cells": [
    {
      "cell_type": "markdown",
      "metadata": {
        "id": "view-in-github",
        "colab_type": "text"
      },
      "source": [
        "<a href=\"https://colab.research.google.com/github/rms5010/first-dl-project/blob/main/%EC%A0%9C%EC%95%88%EC%84%9C.ipynb\" target=\"_parent\"><img src=\"https://colab.research.google.com/assets/colab-badge.svg\" alt=\"Open In Colab\"/></a>"
      ]
    },
    {
      "cell_type": "markdown",
      "source": [
        "# YouTube Trending Video 분석 프로젝트 제안서\n",
        "\n",
        "## 1. 프로젝트 개요\n",
        "\n",
        "### 주제\n",
        "한국 유튜브 인기 급상승 동영상 데이터를 분석하여 인기 콘텐츠의 특성과 트렌드를 파악하고자 합니다.\n",
        "\n",
        "### 목적\n",
        "- 유튜브 인기 영상에 영향을 미치는 요소(제목, 태그, 업로드 요일 등)를 분석합니다.\n",
        "- 딥러닝 기반 모델을 통해 인기 영상 여부를 예측하거나 클러스터링을 통해 유사 콘텐츠 군집을 도출합니다.\n",
        "- 이를 통해 콘텐츠 제작자와 마케터가 참고할 수 있는 데이터 기반 인사이트를 제공합니다.\n",
        "\n",
        "## 2. 사용 데이터셋\n",
        "- **출처**: Kaggle - [YouTube Trending Video Dataset](https://www.kaggle.com/datasets/rsrishav/youtube-trending-video-dataset)\n",
        "- **파일**: `KR_youtube_trending_data.csv`\n",
        "- **주요 컬럼**:\n",
        "  - `title`: 영상 제목\n",
        "  - `publishedAt`: 영상 게시일\n",
        "  - `trending_date`: 인기 영상으로 선정된 날짜\n",
        "  - `channelTitle`: 채널 이름\n",
        "  - `categoryId`: 카테고리 정보\n",
        "  - `tags`, `view_count`, `like_count`, `comment_count` 등\n",
        "\n",
        "## 3. 분석 및 모델링 기법\n",
        "\n",
        "### 전처리 및 분석\n",
        "- 결측치 처리 및 날짜 형식 통일\n",
        "- 요일/시간대 파생 변수 생성 (예: 평일/주말, 오전/오후)\n",
        "- 시각화를 통한 트렌드 분석\n",
        "\n",
        "### 적용 모델 (예정)\n",
        "- **MLP (다중 퍼셉트론)**: 분류 모델로 기본 적용 예정\n",
        "- **LSTM**: 시간 흐름을 고려한 시계열 기반 예측 실험\n",
        "- **클러스터링 (KMeans, DBSCAN 등)**: 유사 콘텐츠 자동 분류\n",
        "\n",
        "## 4. 프로젝트 흐름\n",
        "```\n",
        "1. 데이터 불러오기 및 전처리\n",
        "2. 탐색적 데이터 분석 (EDA)\n",
        "3. 피처 엔지니어링 및 시각화\n",
        "4. 모델 설계 및 학습\n",
        "5. 예측 결과 분석 및 인사이트 도출\n",
        "6. 결론 및 시사점 정리\n",
        "```\n",
        "\n",
        "## 5. 기대 효과\n",
        "- 유튜브 알고리즘에 영향을 줄 수 있는 요소를 데이터 기반으로 도출\n",
        "- 콘텐츠 제작자들이 활용할 수 있는 실질적인 인사이트 제공\n",
        "- 마케팅 전략 수립을 위한 트렌드 참고자료 생성\n",
        "\n",
        "## 6. 참고 자료\n",
        "- Kaggle Dataset: https://www.kaggle.com/datasets/rsrishav/youtube-trending-video-dataset\n",
        "- GitHub Reference: https://github.com/slogsdon7/csc4760_project\n",
        "- 연구 논문: \"유튜브 인기 영상의 특징 분석을 통한 인사이트 도출\" (DBpia)\n",
        "- ResearchGate 컬럼 설명 참고: https://www.researchgate.net/figure/Columns-of-YouTube-trending-videos-dataset_tbl1_379971848\n",
        "\n",
        "\n",
        "# 📝 기대 효과\n",
        "# - 유튜브 인기 영상에 대한 분석 및 예측 경험 습득\n",
        "# - 딥러닝과 클러스터링 기법 실전 적용 경험\n"
      ],
      "metadata": {
        "id": "ZxgwTTu3iYqy"
      }
    }
  ]
}