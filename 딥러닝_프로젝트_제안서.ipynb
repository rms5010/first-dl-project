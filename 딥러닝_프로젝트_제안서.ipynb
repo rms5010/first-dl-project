{
  "nbformat": 4,
  "nbformat_minor": 0,
  "metadata": {
    "colab": {
      "provenance": [],
      "include_colab_link": true
    },
    "kernelspec": {
      "name": "python3",
      "display_name": "Python 3"
    },
    "language_info": {
      "name": "python"
    }
  },
  "cells": [
    {
      "cell_type": "markdown",
      "metadata": {
        "id": "view-in-github",
        "colab_type": "text"
      },
      "source": [
        "<a href=\"https://colab.research.google.com/github/rms5010/first-dl-project/blob/main/%EB%94%A5%EB%9F%AC%EB%8B%9D_%ED%94%84%EB%A1%9C%EC%A0%9D%ED%8A%B8_%EC%A0%9C%EC%95%88%EC%84%9C.ipynb\" target=\"_parent\"><img src=\"https://colab.research.google.com/assets/colab-badge.svg\" alt=\"Open In Colab\"/></a>"
      ]
    },
    {
      "cell_type": "markdown",
      "source": [
        "# 프로젝트 개요\n",
        "\n",
        "- 데이터 마이닝을 이용한 유튜브 인기 급상승 동영상 컨텐츠 및  유튜브 알고리즘 분석\n",
        "\n",
        "## 주제 선택 이유\n",
        "\n",
        "- 평소에 유튜브 영상을 즐겨보며, 유튜브의 인기 컨텐츠들의 내용 및 성공 요인, 그리고 유튜브 알고리즘에 대해 알아보고 싶었다.\n",
        "\n",
        "## 사용할 모델\n",
        "\n",
        "- 다층 퍼셉트론 (MLP, Multi-Layer Perceptron)\n",
        "- 순환 신경망 (RNN, Recurrent Neural Network) / LSTM (Long Short-Term Memory)\n",
        "- 합성곱 신경망 (CNN, Convolutional Neural Network)\n",
        "- Transformer 모델\n",
        "- Autoencoder (오토인코더)\n",
        "- 강화학습 (Reinforcement Learning)\n",
        "- 클러스터링 기법\n",
        "\n",
        "\n",
        "## 데이터셋 설명\n",
        "\n",
        "- kaggle(YouTube Trending Video Dataset (updated daily), YouTube Trending Videos Dataset, Trending YouTube Video Statistics)\n",
        "\n",
        "- YouTube-8M Segments Dataset(https://research.google.com/youtube8m/index.html)\n",
        "\n",
        "- Mozilla foundation(https://foundation.mozilla.org/en/youtube/regretsreporter-dataset/?utm_source=chatgpt.com)"
      ],
      "metadata": {
        "id": "2Nw9xFzcAhKm"
      }
    }
  ]
}