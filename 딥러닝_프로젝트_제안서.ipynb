{
  "nbformat": 4,
  "nbformat_minor": 0,
  "metadata": {
    "colab": {
      "provenance": [],
      "authorship_tag": "ABX9TyM+09YoW4fHv7agSyudHQmR",
      "include_colab_link": true
    },
    "kernelspec": {
      "name": "python3",
      "display_name": "Python 3"
    },
    "language_info": {
      "name": "python"
    }
  },
  "cells": [
    {
      "cell_type": "markdown",
      "metadata": {
        "id": "view-in-github",
        "colab_type": "text"
      },
      "source": [
        "<a href=\"https://colab.research.google.com/github/rms5010/first-dl-project/blob/main/%EB%94%A5%EB%9F%AC%EB%8B%9D_%ED%94%84%EB%A1%9C%EC%A0%9D%ED%8A%B8_%EC%A0%9C%EC%95%88%EC%84%9C.ipynb\" target=\"_parent\"><img src=\"https://colab.research.google.com/assets/colab-badge.svg\" alt=\"Open In Colab\"/></a>"
      ]
    },
    {
      "cell_type": "markdown",
      "source": [
        "# 프로젝트 제안서: 한국 유튜브 인기 영상 트렌드 분석\n",
        "\n",
        "---\n",
        "\n",
        "## 1. 연구 목적 및 배경\n",
        "\n",
        "- 유튜브는 전 세계적으로 가장 큰 동영상 플랫폼이며, 특히 **인기 급상승 영상**은 대중의 관심 트렌드를 빠르게 반영합니다. 본 프로젝트에서는 딥러닝 기법을 활용하여 인기 유튜브 영상의 공통적인 특징과 트렌드를 분석하고자 합니다.  \n",
        "\n",
        "## 2. 프로젝트 개요\n",
        "- Kaggle의 KR_youtube_trending_data.csv 데이터를 기반으로 한국 유튜브 인기 영상의 특성을 분석하고 예측 모델을 구축하는 것이 목적\n",
        "\n",
        "---\n",
        "\n",
        "## 3. 데이터셋 소개\n",
        "\n",
        "- **출처**: Kaggle  \n",
        "  [YouTube Trending Video Dataset (KR)](https://www.kaggle.com/datasets/rsrishav/youtube-trending-video-dataset)\n",
        "- **내용**: 한국 인기 급상승 영상 데이터\n",
        "- **파일**: `KR_youtube_trending_data.csv`\n",
        "- **주요 컬럼**:\n",
        "  - `title`: 영상 제목\n",
        "  - `publishedAt`: 영상 게시일\n",
        "  - `trending_date`: 인기 영상으로 선정된 날짜\n",
        "  - `channelTitle`: 채널 이름\n",
        "  - `categoryId`: 카테고리 정보\n",
        "  - `tags`, `view_count`, `like_count`, `comment_count` 등\n",
        "- **형식**: CSV, 약 수천 개의 샘플\n",
        "\n",
        "---\n",
        "\n",
        "## 4. 분석 방향\n",
        "- 영상 정보(카테고리, 업로드 시간, 제목 길이, 태그 수 등)와 인기 지표(조회수, 좋아요 등)의 관계 분석\n",
        "- LSTM 모델을 활용한 시계열 기반 트렌드 예측\n",
        "- KMeans 알고리즘을 통한 영상 유형 클러스터링\n",
        "\n",
        "---\n",
        "\n",
        "## 5. 분석 목표\n",
        "\n",
        "- 🎯 인기 영상 예측 (회귀)\n",
        "- 🧠 콘텐츠 분류 (분류)\n",
        "- 🔍 유사 영상 그룹화 (클러스터링)\n",
        "- 📈 트렌드 시계열 분석 (LSTM)\n",
        "\n",
        "---\n",
        "\n",
        "## 6. 사용 기술\n",
        "\n",
        "- Pandas, Numpy, Matplotlib (데이터 전처리 및 시각화)\n",
        "- TensorFlow / Keras (딥러닝 프레임워크)\n",
        "- 모델: MLP, LSTM (예측), KMeans (클러스터링)\n",
        "\n",
        "---\n",
        "\n",
        "## 7. 일정 예시\n",
        "\n",
        "| 진행 내용 |\n",
        "|-----------|\n",
        "| 데이터 수집 및 전처리 |\n",
        "| 기본 모델 구현 (MLP, LSTM) |\n",
        "| 모델 성능 개선 및 추가 실험 (CNN, 클러스터링) |\n",
        "| 결과 분석, 시각화 |\n",
        "\n",
        "---\n",
        "\n",
        "## 8. 참고 자료\n",
        "\n",
        "1. YouTube Trending Videos Dataset (Kaggle)\n",
        "\n",
        "- 설명: 한국을 포함한 여러 국가의 유튜브 인기 급상승 동영상 데이터를 제공하며, 각 동영상의 제목, 채널명, 게시 시간, 태그, 조회수, 좋아요 수, 댓글 수 등의 정보를 포함합니다. 이 데이터를 통해 인기 영상의 특징을 분석하고 예측 모델의 학습 데이터로 활용할 수 있습니다.\n",
        "\n",
        "- 링크: https://www.kaggle.com/datasets/rsrishav/youtube-trending-video-dataset\n",
        "\n",
        "2. 유튜브 인기 콘텐츠 분석을 위한 다중 회귀분석 및 군집분석 기법 적용 연구 (DBpia)\n",
        "\n",
        "- 설명: 유튜브 영상의 제목, 태그, 길이 등과 인기도(조회수, 좋아요 수 등) 간의 관계를 다중 회귀분석과 군집분석 기법을 통해 분석한 연구입니다. 본 프로젝트에서 유사한 분석 방법론을 적용하거나 비교하는 데 참고할 수 있습니다.\n",
        "\n",
        "- 링크: https://www.dbpia.co.kr/pdf/pdfView.do?nodeId=NODE09329464\n",
        "\n",
        "3. 딥러닝 기반 유튜브 영상 추천 알고리즘 분석 (ResearchGate)\n",
        "\n",
        "- 설명: 딥러닝 모델이 유튜브 영상 추천 시스템에 어떻게 적용되는지에 대한 사례를 분석한 논문입니다. 본 프로젝트에서 딥러닝 모델을 활용한 예측 시스템을 구축할 때 참고할 수 있습니다.\n",
        "\n",
        "- 링크: https://www.researchgate.net/publication/379971848"
      ],
      "metadata": {
        "id": "h1jy5plBffQ0"
      }
    }
  ]
}